{
 "cells": [
  {
   "cell_type": "markdown",
   "metadata": {},
   "source": [
    "<h1 align=\"center\"> For Loops </h1>"
   ]
  },
  {
   "cell_type": "markdown",
   "metadata": {},
   "source": [
    "For loops are a common way to iterate over the elements of an object (in this first example, a list)<br>\n",
    "Any object with an iterable method can be used in a for loop."
   ]
  },
  {
   "cell_type": "markdown",
   "metadata": {},
   "source": [
    "One unique feature of python is that code blocks are NOT surrounded by {} begin,end. Instead, python uses indentation, The lines inside a block have to be indented by a tab, or by 4 spaces, relative to the surrounding commands."
   ]
  },
  {
   "cell_type": "markdown",
   "metadata": {},
   "source": [
    "While this might seem unintuitive at first, it encourages writing more readable code, over time, you'd learn to love it!"
   ]
  },
  {
   "cell_type": "code",
   "execution_count": 49,
   "metadata": {
    "collapsed": false
   },
   "outputs": [
    {
     "output_type": "stream",
     "name": "stdout",
     "text": [
      "23\n41\n12\n16\n7\nHi\n"
     ]
    }
   ],
   "source": [
    "# The Python for statement iterates over the members of a sequence in order,\n",
    "# executing the block each time. \n",
    "\n",
    "# take the first member of the list (iterable), call it number temporarily do something with it (print it)\n",
    "# take second member of the list (iterable), call it number temporarily do something through and so on...\n",
    "for number in [23, 41, 12, 16, 7]: \n",
    "    print(number)\n",
    "print('Hi')"
   ]
  },
  {
   "cell_type": "markdown",
   "metadata": {},
   "source": [
    "### Emunerate"
   ]
  },
  {
   "cell_type": "markdown",
   "metadata": {},
   "source": [
    "Returns a tuple containing a count for every iteration (from start which defaults to 0) and the values obtained from iterating over sequence:"
   ]
  },
  {
   "cell_type": "code",
   "execution_count": 50,
   "metadata": {
    "collapsed": false
   },
   "outputs": [
    {
     "output_type": "stream",
     "name": "stdout",
     "text": [
      "0 steve\n1 rachel\n2 michael\n3 adam\n4 monica\n"
     ]
    }
   ],
   "source": [
    "friends = ['steve', 'rachel', 'michael', 'adam', 'monica']\n",
    "for index, friend in enumerate(friends):\n",
    "    print(index,friend)"
   ]
  },
  {
   "cell_type": "markdown",
   "metadata": {},
   "source": [
    "### Task"
   ]
  },
  {
   "cell_type": "markdown",
   "metadata": {},
   "source": [
    "<b>Remove the punctuation from the text and convert the final product to a list:</b> </br>\n",
    "\n",
    "On a dark desert highway, cool wind in my hair Warm smell of colitas, rising up through the air Up ahead in the distance, I saw a shimmering light My head grew heavy and my sight grew dim I had to stop for the night There she stood in the doorway; I heard the mission bell And I was thinking to myself, \"This could be Heaven or this could be Hell\" Then she lit up a candle and she showed me the way"
   ]
  },
  {
   "cell_type": "code",
   "execution_count": 51,
   "metadata": {
    "collapsed": true
   },
   "outputs": [],
   "source": [
    "text = '''On a dark desert highway, cool wind in my hair Warm smell of colitas, rising up through the air Up ahead in the distance, I saw a shimmering light My head grew heavy and my sight grew dim I had to stop for the night There she stood in the doorway; I heard the mission bell And I was thinking to myself, \"This could be Heaven or this could be Hell\" Then she lit up a candle and she showed me the way'''"
   ]
  },
  {
   "cell_type": "code",
   "execution_count": 52,
   "metadata": {
    "collapsed": false
   },
   "outputs": [
    {
     "output_type": "stream",
     "name": "stdout",
     "text": [
      "On a dark desert highway, cool wind in my hair Warm smell of colitas, rising up through the air Up ahead in the distance, I saw a shimmering light My head grew heavy and my sight grew dim I had to stop for the night There she stood in the doorway; I heard the mission bell And I was thinking to myself, \"This could be Heaven or this could be Hell\" Then she lit up a candle and she showed me the way\n"
     ]
    }
   ],
   "source": [
    "print(text)"
   ]
  },
  {
   "cell_type": "markdown",
   "metadata": {},
   "source": [
    "Basically, any object with an iterable method can be used in a for loop. Even strings, despite not having an iterable method - but we'll not get on to that here. Having an iterable method basically means that the data can be presented in list form, where there are multiple values in an orderly fashion. "
   ]
  },
  {
   "cell_type": "code",
   "execution_count": 53,
   "metadata": {
    "collapsed": false
   },
   "outputs": [
    {
     "output_type": "stream",
     "name": "stdout",
     "text": [
      "On a dark desert highway  cool wind in my hair Warm smell of colitas  rising up through the air Up ahead in the distance  I saw a shimmering light My head grew heavy and my sight grew dim I had to stop for the night There she stood in the doorway  I heard the mission bell And I was thinking to myself   This could be Heaven or this could be Hell  Then she lit up a candle and she showed me the way\n"
     ]
    }
   ],
   "source": [
    "for char in '-.,;\\n\"\\'':\n",
    "    text = text.replace(char,' ')\n",
    "print(text)"
   ]
  },
  {
   "cell_type": "code",
   "execution_count": 54,
   "metadata": {
    "collapsed": false
   },
   "outputs": [
    {
     "output_type": "execute_result",
     "data": {
      "text/plain": [
       "['On',\n",
       " 'a',\n",
       " 'dark',\n",
       " 'desert',\n",
       " 'highway',\n",
       " '',\n",
       " 'cool',\n",
       " 'wind',\n",
       " 'in',\n",
       " 'my',\n",
       " 'hair',\n",
       " 'Warm',\n",
       " 'smell',\n",
       " 'of',\n",
       " 'colitas',\n",
       " '',\n",
       " 'rising',\n",
       " 'up',\n",
       " 'through',\n",
       " 'the']"
      ]
     },
     "metadata": {},
     "execution_count": 54
    }
   ],
   "source": [
    "# Split converts string to list.\n",
    "# Each item in list is split on spaces\n",
    "text.split(' ')[0:20]"
   ]
  },
  {
   "cell_type": "code",
   "execution_count": 55,
   "metadata": {
    "collapsed": false
   },
   "outputs": [
    {
     "output_type": "execute_result",
     "data": {
      "text/plain": [
       "0"
      ]
     },
     "metadata": {},
     "execution_count": 55
    }
   ],
   "source": [
    "# Dont want to have non words in my list for example ''\n",
    "# which in this case are things of zero length\n",
    "len('')"
   ]
  },
  {
   "cell_type": "code",
   "execution_count": 56,
   "metadata": {
    "collapsed": true
   },
   "outputs": [],
   "source": [
    "# Making new list with no empty words in it\n",
    "cleaned_list = []"
   ]
  },
  {
   "cell_type": "code",
   "execution_count": 57,
   "metadata": {
    "collapsed": true
   },
   "outputs": [],
   "source": [
    "for word in text.split(' '): \n",
    "    word_length = len(word)\n",
    "    if word_length > 0:\n",
    "        cleaned_list.append(word)"
   ]
  },
  {
   "cell_type": "code",
   "execution_count": 58,
   "metadata": {
    "collapsed": false
   },
   "outputs": [
    {
     "output_type": "execute_result",
     "data": {
      "text/plain": [
       "['On',\n",
       " 'a',\n",
       " 'dark',\n",
       " 'desert',\n",
       " 'highway',\n",
       " 'cool',\n",
       " 'wind',\n",
       " 'in',\n",
       " 'my',\n",
       " 'hair',\n",
       " 'Warm',\n",
       " 'smell',\n",
       " 'of',\n",
       " 'colitas',\n",
       " 'rising',\n",
       " 'up',\n",
       " 'through',\n",
       " 'the',\n",
       " 'air',\n",
       " 'Up']"
      ]
     },
     "metadata": {},
     "execution_count": 58
    }
   ],
   "source": [
    "cleaned_list[0:20]"
   ]
  },
  {
   "cell_type": "markdown",
   "metadata": {},
   "source": [
    "### Task (Introducing the range function)"
   ]
  },
  {
   "cell_type": "markdown",
   "metadata": {},
   "source": [
    "1. Write a Python program which iterates through integers from 1 to 50 (using a for loop). For an integer that is even, append it to the list even_numbers. For an integer that is odd, append it the list odd_numbers"
   ]
  },
  {
   "cell_type": "code",
   "execution_count": 59,
   "metadata": {
    "collapsed": true
   },
   "outputs": [],
   "source": [
    "# Making empty lists to append even and odd numbers to. \n",
    "even_numbers = []\n",
    "odd_numbers = []\n",
    "\n",
    "for number in range(1,51):\n",
    "    if number % 2 == 0:\n",
    "        even_numbers.append(number)\n",
    "    else: \n",
    "        odd_numbers.append(number)    "
   ]
  },
  {
   "cell_type": "code",
   "execution_count": 60,
   "metadata": {
    "collapsed": false
   },
   "outputs": [
    {
     "output_type": "stream",
     "name": "stdout",
     "text": [
      "Even Numbers:  [2, 4, 6, 8, 10, 12, 14, 16, 18, 20, 22, 24, 26, 28, 30, 32, 34, 36, 38, 40, 42, 44, 46, 48, 50]\n"
     ]
    }
   ],
   "source": [
    "print(\"Even Numbers: \", even_numbers)"
   ]
  },
  {
   "cell_type": "code",
   "execution_count": 61,
   "metadata": {
    "collapsed": false
   },
   "outputs": [
    {
     "output_type": "stream",
     "name": "stdout",
     "text": [
      "Odd Numbers:  [1, 3, 5, 7, 9, 11, 13, 15, 17, 19, 21, 23, 25, 27, 29, 31, 33, 35, 37, 39, 41, 43, 45, 47, 49]\n"
     ]
    }
   ],
   "source": [
    "print(\"Odd Numbers: \", odd_numbers)"
   ]
  },
  {
   "cell_type": "markdown",
   "metadata": {},
   "source": [
    "<b> Range Function Reference: </b> http://pythoncentral.io/pythons-range-function-explained/"
   ]
  },
  {
   "source": [
    "<h1 align=\"center\">While Loop</h1>"
   ],
   "cell_type": "markdown",
   "metadata": {}
  },
  {
   "source": [
    "For Loop | While Loop\n",
    "--- | --- \n",
    "Iterate through a certain number of values   |    Will just keep going until condition evaluates to False\n",
    "Can leave loop using break statement   |    Can leave loop using break statement"
   ],
   "cell_type": "markdown",
   "metadata": {}
  },
  {
   "source": [
    "if we want loop to end at some point, we have to make condition False eventually"
   ],
   "cell_type": "markdown",
   "metadata": {}
  },
  {
   "cell_type": "code",
   "execution_count": 62,
   "metadata": {},
   "outputs": [
    {
     "output_type": "stream",
     "name": "stdout",
     "text": [
      "0\n1\n2\n3\n4\n5\n"
     ]
    }
   ],
   "source": [
    "# Everytime through the loop, it checks condition everytime until count is 6 \n",
    "# can also use a break to break out of while loop. \n",
    "count = 0\n",
    "while count <= 5:\n",
    "    print(count)\n",
    "    count = count + 1"
   ]
  },
  {
   "source": [
    "Reminder:<br>\n",
    "\n",
    "Comparison Operator | Function\n",
    "--- | --- \n",
    "< | less than\n",
    "<= | less than or equal to\n",
    "> | greater than\n",
    ">= | greater than or equal to\n",
    "== | equal\n",
    "!= | not equal\n",
    "\n",
    "Reminder:<br>\n",
    "Use the modulo operator (%) which returns the remainder of the division of the number to the left by the number on its right."
   ],
   "cell_type": "markdown",
   "metadata": {}
  },
  {
   "cell_type": "code",
   "execution_count": 63,
   "metadata": {},
   "outputs": [
    {
     "output_type": "stream",
     "name": "stdout",
     "text": [
      "2\n3\n4\n5\n"
     ]
    }
   ],
   "source": [
    "x = 1\n",
    "while x % 5 != 0:\n",
    "    x += 1\n",
    "    print(x)"
   ]
  },
  {
   "source": [
    "range is useful when we know how many times we want to go through a loop\n",
    "<br>\n",
    "start at 0 and go up to but not including 5"
   ],
   "cell_type": "markdown",
   "metadata": {}
  },
  {
   "cell_type": "code",
   "execution_count": 64,
   "metadata": {},
   "outputs": [
    {
     "output_type": "execute_result",
     "data": {
      "text/plain": [
       "[0, 1, 2, 3, 4]"
      ]
     },
     "metadata": {},
     "execution_count": 64
    }
   ],
   "source": [
    "candidates = list(range(0, 5))\n",
    "candidates"
   ]
  },
  {
   "cell_type": "code",
   "execution_count": 65,
   "metadata": {},
   "outputs": [
    {
     "output_type": "stream",
     "name": "stdout",
     "text": [
      "[1, 2, 3, 4]\n[2, 3, 4]\n[3, 4]\n[4]\n[]\n"
     ]
    }
   ],
   "source": [
    "while len(candidates) > 0: \n",
    "    first = candidates[0]\n",
    "    candidates.remove(first)\n",
    "    print(candidates)"
   ]
  },
  {
   "source": [
    "<h1>Features that you should try to avoid.</h1>"
   ],
   "cell_type": "markdown",
   "metadata": {}
  },
  {
   "cell_type": "markdown",
   "metadata": {},
   "source": [
    "<h2>Break</h2>"
   ]
  },
  {
   "source": [
    "break statement will completely break out of loop (while or for)<br>\n",
    "It is not best practise, reduces readability. Avoid using break statements whenever you can. <br>\n",
    "(include the condition to the while statement or construct your loop st. you do not to \"break\".)"
   ],
   "cell_type": "markdown",
   "metadata": {}
  },
  {
   "cell_type": "code",
   "execution_count": 66,
   "metadata": {},
   "outputs": [],
   "source": [
    "text = '''On a dark desert highway, cool wind in my hair Warm smell of colitas, rising up through the air Up ahead in the distance, I saw a shimmering light My head grew heavy and my sight grew dim I had to stop for the night There she stood in the doorway; I heard the mission bell And I was thinking to myself, \"This could be Heaven or this could be Hell\" Then she lit up a candle and she showed me the way'''"
   ]
  },
  {
   "cell_type": "code",
   "execution_count": 67,
   "metadata": {},
   "outputs": [
    {
     "output_type": "stream",
     "name": "stdout",
     "text": [
      "I found the word I was looking for\n['On', 'a', 'dark']\n"
     ]
    }
   ],
   "source": [
    "cleaned_list = []\n",
    "for word in text.split(' '): \n",
    "    if word == 'desert':\n",
    "        print('I found the word I was looking for')\n",
    "        break\n",
    "    cleaned_list.append(word)\n",
    "print(cleaned_list)"
   ]
  },
  {
   "cell_type": "code",
   "execution_count": 68,
   "metadata": {},
   "outputs": [
    {
     "output_type": "stream",
     "name": "stdout",
     "text": [
      "I found the word I was looking for\n['On', 'a', 'dark']\nI found the word I was looking for\n['On', 'a', 'dark']\n"
     ]
    }
   ],
   "source": [
    "#rather than that, you could do:\n",
    "cleaned_list = []\n",
    "myFlag=False\n",
    "for word in text.split(' '): \n",
    "    if word == 'desert':\n",
    "        print('I found the word I was looking for')\n",
    "        myFlag=True\n",
    "    if myFlag==False:\n",
    "        cleaned_list.append(word)\n",
    "print(cleaned_list)\n",
    "#if you have too many elements in your list, turn the for loop into a while loop with conditions myFlag==False and index<len(myList).\n",
    "#otherwise you will go thru each element of the list.\n",
    "cleaned_list = []\n",
    "words=text.split(' ')\n",
    "myFlag=False\n",
    "i=0\n",
    "while(i<len(words) and not myFlag):\n",
    "    word=words[i]\n",
    "    if word == 'desert':\n",
    "        print('I found the word I was looking for')\n",
    "        myFlag=True\n",
    "    else:\n",
    "        cleaned_list.append(word)\n",
    "    i+=1\n",
    "#once myFlag is True, this part of the code will run\n",
    "print(cleaned_list)"
   ]
  },
  {
   "cell_type": "code",
   "execution_count": 69,
   "metadata": {},
   "outputs": [
    {
     "output_type": "stream",
     "name": "stdout",
     "text": [
      "1\n2\n"
     ]
    }
   ],
   "source": [
    "count = 0\n",
    "while count <= 5:\n",
    "    if count == 2:\n",
    "        break\n",
    "    count += 1\n",
    "    print(count)"
   ]
  },
  {
   "source": [
    "The while True condition makes it impossible to leave the loop unless you run into a break statement\n",
    "<br>\n",
    "if you are stuck in an infinite loop, use control + c on your computer to break out of it"
   ],
   "cell_type": "markdown",
   "metadata": {}
  },
  {
   "cell_type": "code",
   "execution_count": 70,
   "metadata": {},
   "outputs": [
    {
     "output_type": "stream",
     "name": "stdout",
     "text": [
      "1\n2\nFound 2\n"
     ]
    }
   ],
   "source": [
    "num = 0\n",
    "while True:\n",
    "    if num == 2:\n",
    "        print('Found 2')\n",
    "        break #--->If this break statement was not here, It would be an infinite loop.\n",
    "    num += 1\n",
    "    print(num)"
   ]
  },
  {
   "source": [
    "<h2>Continue</h2>"
   ],
   "cell_type": "markdown",
   "metadata": {}
  },
  {
   "source": [
    "continue statement will move onto the next iteration of the loop <br>\n",
    "continue is used for ignoring certain values, but not break out of loop.<br>\n",
    "I'm a senior CS student and never knew that this existed in Python, it is easy to avoid using continue. It reduces readability, like goto in C++."
   ],
   "cell_type": "markdown",
   "metadata": {}
  },
  {
   "cell_type": "code",
   "execution_count": 71,
   "metadata": {},
   "outputs": [
    {
     "output_type": "stream",
     "name": "stdout",
     "text": [
      "[1, 3, 5, 7, 9]\n"
     ]
    }
   ],
   "source": [
    "numList=list(range(10)) #list(range(10)) is [0,1,2,3,4,5,6,7,8,9]\n",
    "oddNumbers=[]\n",
    "for num in numList: \n",
    "    if num%2==0:\n",
    "        continue\n",
    "    oddNumbers.append(num)\n",
    "print(oddNumbers)"
   ]
  },
  {
   "cell_type": "code",
   "execution_count": 72,
   "metadata": {},
   "outputs": [
    {
     "output_type": "stream",
     "name": "stdout",
     "text": [
      "[1, 3, 5, 7, 9]\n"
     ]
    }
   ],
   "source": [
    "#a better way to do that is:\n",
    "#USING THE INVERSE OF THE CONDITIONAL STATEMENT\n",
    "oddNumbers=[]\n",
    "for num in numList: \n",
    "    if num%2==1:\n",
    "        oddNumbers.append(num)\n",
    "print(oddNumbers)"
   ]
  }
 ],
 "metadata": {
  "anaconda-cloud": {},
  "kernelspec": {
   "display_name": "Python 3.8.5 32-bit",
   "language": "python",
   "name": "python38532bit0075b95e22cf4ed9b0cdbf838617dc06"
  },
  "language_info": {
   "codemirror_mode": {
    "name": "ipython",
    "version": 3
   },
   "file_extension": ".py",
   "mimetype": "text/x-python",
   "name": "python",
   "nbconvert_exporter": "python",
   "pygments_lexer": "ipython3",
   "version": "3.8.5-final"
  }
 },
 "nbformat": 4,
 "nbformat_minor": 1
}